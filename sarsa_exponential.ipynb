{
  "nbformat": 4,
  "nbformat_minor": 0,
  "metadata": {
    "colab": {
      "name": "sarsa_exponential.ipynb",
      "provenance": [],
      "collapsed_sections": [],
      "include_colab_link": true
    },
    "kernelspec": {
      "name": "python3",
      "display_name": "Python 3"
    },
    "language_info": {
      "name": "python"
    }
  },
  "cells": [
    {
      "cell_type": "markdown",
      "metadata": {
        "id": "view-in-github",
        "colab_type": "text"
      },
      "source": [
        "<a href=\"https://colab.research.google.com/github/PLEX-GR00T/Maze_solving_MDP/blob/main/sarsa_exponential.ipynb\" target=\"_parent\"><img src=\"https://colab.research.google.com/assets/colab-badge.svg\" alt=\"Open In Colab\"/></a>"
      ]
    },
    {
      "cell_type": "code",
      "metadata": {
        "colab": {
          "base_uri": "https://localhost:8080/",
          "height": 610
        },
        "id": "7bqHFNkxh7dZ",
        "outputId": "8b5aa655-b997-4008-813c-793d381aae15"
      },
      "source": [
        "import numpy as np\n",
        "import random\n",
        "import matplotlib.pyplot as plt\n",
        "\n",
        "# connections -----------------------------------------------------------------------------------------------\n",
        "# maze is 4x4 for convergence\n",
        "\n",
        "# a1,  a2,   a3,  a4\n",
        "#wall wall wall \n",
        "# a5,  a6,   a7,  a8\n",
        "#      wall wall\n",
        "# a9, a10,  a11, a12\n",
        "#    vW     wall wall\n",
        "#a13, a14,  a15, a16\n",
        "#note 1 vertical wall (vW) between a9 and a13\n",
        "#creating list of possible directions for each node, clockwise from north = 0, east = 1, south = 2, west = 3\n",
        "#eg so for a1, you can only go east so the value is [0, 2, 0, 0] since on the east it connects to a2 and walls on all othersides\n",
        "a1  = [ 0,  2,  0,  0]\n",
        "a2  = [ 0,  3,  0,  1]\n",
        "a3  = [ 0,  4,  0,  2]\n",
        "a4  = [ 0,  0,  8,  3]\n",
        "a5  = [ 0,  6,  9,  0]\n",
        "a6  = [ 0,  7,  0,  5]\n",
        "a7  = [ 0,  8,  0,  6]\n",
        "a8  = [ 4,  0, 12,  7]\n",
        "a9  = [ 5,  0, 13,  0]\n",
        "a10 = [ 0, 11, 14,  0]\n",
        "a11 = [ 0, 12,  0, 10]\n",
        "a12 = [ 8,  0,  0, 11]\n",
        "a13 = [ 9, 14,  0,  0]\n",
        "a14 = [10, 15,  0, 13]\n",
        "a15 = [ 0, 16,  0, 14]\n",
        "a16 = [ 0,  0,  0, 15]\n",
        "connections = [a1, a2, a3, a4, a5, a6, a7, a8, a9, a10, a11, a12, a13, a14, a15, a16]\n",
        "#------------------------------------------------------------------------------------------------------------\n",
        "\n",
        "#Settings ---------------------------------------------------------------------------------------------------\n",
        "total_episodes = 100           # Total episodes\n",
        "learning_rate = 0.7            # Learning rate\n",
        "max_steps = 100                # Max steps per episode\n",
        "gamma = 0.975                  # Discounting rate\n",
        "\n",
        "# Exploration parameters\n",
        "epsilon = 1.0                 # Exploration rate\n",
        "max_epsilon = 1.0             # Exploration probability at start\n",
        "min_epsilon = 0.01            # Minimum exploration probability \n",
        "decay_rate = 0.1              # Exponential decay rate for exploration prob\n",
        "\n",
        "#reward\n",
        "reward_normal = -1\n",
        "reward_goal = 100\n",
        "#------------------------------------------------------------------------------------------------------------\n",
        "\n",
        "# stored variables ------------------------------------------------------------------------------------------\n",
        "total_reward_by_cycle = []\n",
        "qtable = np.zeros((16, 4))\n",
        "#------------------------------------------------------------------------------------------------------------\n",
        "\n",
        "#takes in a node number and returns:\n",
        "#1 the q-value of next node, , and  either by exploration or exploitation\n",
        "#2 the reward of next node\n",
        "#3 next node number\n",
        "#4 current node\n",
        "#5 policy from current node (0 = north, 1 = east, 2 = south, 3 = west)\n",
        "#note we do NOT reduce epsilon here\n",
        "#node number given should already be adjusted from 0 instead of 1\n",
        "#note that the connections need to be reduced by 1 to get zeroth order\n",
        "def explore_or_exploit(node_number):\n",
        "    current_connections = connections[node_number]\n",
        "    cleaned_connections = []\n",
        "    index_i = 0\n",
        "    for i in current_connections:\n",
        "        if (i==0):\n",
        "            pass\n",
        "            #do nothing\n",
        "        else:\n",
        "            #here we grab the none zero values (none walls) and record index (direction) as well\n",
        "            #note that we reduce index by -1 to go from zeroth index\n",
        "            cleaned_connections.append([i-1,index_i])\n",
        "        index_i=index_i+1\n",
        "        \n",
        "    ## First we randomize a number\n",
        "    exp_exp_tradeoff = random.uniform(0, 1)\n",
        "        \n",
        "    ## If this less than epsilon(exporation factor), we explore\n",
        "    if exp_exp_tradeoff < epsilon:\n",
        "        connected_array = random.choice(cleaned_connections)\n",
        "        reward = reward_normal if connected_array[0] != 15 else reward_goal\n",
        "        next_node = connected_array[0]\n",
        "        value = qtable[node_number][connected_array[1]]\n",
        "        policy_from_current = connected_array[1]\n",
        "    ## otherwise we exploit\n",
        "    else:\n",
        "        #none zero connections adjusted for 0th indexing (-1)\n",
        "        current_max = -1000\n",
        "        max_array_list = []\n",
        "        for i in cleaned_connections:\n",
        "            qvalue_current = qtable[node_number][i[1]]\n",
        "            if (qvalue_current > current_max):\n",
        "                max_array_list.append(i)\n",
        "                current_max = qvalue_current\n",
        "        max_move = max_array_list[-1]\n",
        "        max_qvalue = current_max\n",
        "        policy_from_current = max_move[1]\n",
        "        reward = reward_normal if max_move[0] != 15 else reward_goal\n",
        "        next_node = max_move[0]\n",
        "        value = max_qvalue\n",
        "    return [value, reward, next_node, node_number, policy_from_current]\n",
        "\n",
        "def reduce_epsilon(epsilon):\n",
        "    if epsilon < min_epsilon:\n",
        "        epsilon = epsilon - decay_rate\n",
        "\n",
        "\"\"\"\n",
        "3 loops\n",
        "first loop = number of cycles\n",
        "reduce epsilon after 1 cycle\n",
        "2nd loop goes from 0-14 as we want to start at random spots instead of just at beginning\n",
        "inner loop (3rd) we run an interation\n",
        "in the inner loop we loop\n",
        "start at next node = 0\n",
        "update q and get next node\n",
        "keep cycling\n",
        "while next node != 15 (goal) keep running\n",
        "break if above max steps\n",
        "\"\"\"\n",
        "# x cycles of 15\n",
        "for runs in range (1,21):\n",
        "    # 1 cycle of 15\n",
        "    cycle_reward_count = 0\n",
        "    for c in range(0, 15):\n",
        "        reward_count = 0\n",
        "        current_steps = 0\n",
        "        current_node = 0\n",
        "        next_node = c\n",
        "        while next_node < 15:\n",
        "            current_node = next_node\n",
        "            #make move\n",
        "            #return [0value, 1reward, 2next_node, 3node_number, 4policy_from_current]\n",
        "            next_move = explore_or_exploit(current_node)\n",
        "    \n",
        "            #move after next move\n",
        "            next_next_move = explore_or_exploit(next_move[2])\n",
        "    \n",
        "            state = current_node\n",
        "            action = next_move[4]\n",
        "            reward = next_move[1]\n",
        "            next_next_q_value = next_next_move[0]\n",
        "    \n",
        "            # Update Q(s,a):= Q(s,a) + lr [R(s,a) + gamma * max Q(s',a') - Q(s,a)]\n",
        "            # qtable[new_state,:] : all the actions we can take from new state\n",
        "            qtable[state, action] = qtable[state, action] + learning_rate * (reward + gamma * next_next_q_value - qtable[state, action])\n",
        "        \n",
        "            #update reward, steps and move to next node\n",
        "            reward_count = reward_count + reward\n",
        "            current_steps = current_steps + 1\n",
        "            next_node = next_move[2]\n",
        "\n",
        "            if current_steps >= max_steps:\n",
        "                break \n",
        "        cycle_reward_count = cycle_reward_count + reward_count\n",
        "    #update epsilon\n",
        "    decay_rate = .01*(2)**(runs-1)\n",
        "    epsilon = epsilon - decay_rate\n",
        "    if (epsilon < min_epsilon):\n",
        "        epsilon = min_epsilon\n",
        "    # print(runs)\n",
        "    # print(decay_rate)\n",
        "    # print(epsilon)\n",
        "    if (epsilon < min_epsilon):\n",
        "        epsilon = min_epsilon\n",
        "    \n",
        "    #update rewards\n",
        "    total_reward_by_cycle.append(cycle_reward_count)\n",
        "        \n",
        "print(\"Accumulated Reward per episode/rollout (per cycle of 15):\")\n",
        "print(total_reward_by_cycle)\n",
        "print(\"qTable:\")\n",
        "print(qtable)\n",
        "\n",
        "plt.imshow(np.max(qtable, axis = 1).reshape(4,4))"
      ],
      "execution_count": null,
      "outputs": [
        {
          "output_type": "stream",
          "name": "stdout",
          "text": [
            "Accumulated Reward per episode/rollout (per cycle of 15):\n",
            "[638, 543, 583, 533, 1025, 1215, 1269, 1435, 1435, 1435, 1433, 1435, 1435, 1435, 1435, 1435, 1435, 1435, 1431, 1393]\n",
            "qTable:\n",
            "[[ 0.00000000e+00  7.11358945e+01  0.00000000e+00  0.00000000e+00]\n",
            " [ 0.00000000e+00  7.43252302e+01  0.00000000e+00 -1.04141934e+01]\n",
            " [ 0.00000000e+00  7.72627945e+01  0.00000000e+00 -3.28124792e+00]\n",
            " [ 0.00000000e+00  0.00000000e+00  8.02695621e+01  3.64750012e+00]\n",
            " [ 0.00000000e+00  3.10762968e+00  8.65163045e+01  0.00000000e+00]\n",
            " [ 0.00000000e+00 -3.01595368e-02  0.00000000e+00  8.33533304e+01]\n",
            " [ 0.00000000e+00  3.29475017e+00  0.00000000e+00  8.02588826e+01]\n",
            " [ 3.63946277e+00  0.00000000e+00  8.33533971e+01  4.98909747e+00]\n",
            " [ 3.77995715e+00  0.00000000e+00  8.97603125e+01  0.00000000e+00]\n",
            " [ 0.00000000e+00  4.58316518e+01  5.82621119e+01  0.00000000e+00]\n",
            " [ 0.00000000e+00  6.31589198e+01  0.00000000e+00  8.43288949e+01]\n",
            " [ 3.63686531e+00  0.00000000e+00  0.00000000e+00  8.03380672e+01]\n",
            " [ 4.10893420e+01  5.92842343e+01  0.00000000e+00  0.00000000e+00]\n",
            " [ 5.89552939e+01  8.54776410e+01  0.00000000e+00  5.96864159e+01]\n",
            " [ 0.00000000e+00  1.00000000e+02  0.00000000e+00  4.61667446e+01]\n",
            " [ 0.00000000e+00  0.00000000e+00  0.00000000e+00  0.00000000e+00]]\n"
          ]
        },
        {
          "output_type": "execute_result",
          "data": {
            "text/plain": [
              "<matplotlib.image.AxesImage at 0x7f097d2a1f90>"
            ]
          },
          "metadata": {},
          "execution_count": 5
        },
        {
          "output_type": "display_data",
          "data": {
            "image/png": "[encoded data removed]",
            "text/plain": [
              "<Figure size 432x288 with 1 Axes>"
            ]
          },
          "metadata": {
            "needs_background": "light"
          }
        }
      ]
    },
    {
      "cell_type": "code",
      "metadata": {
        "id": "PiWChspTPn2x",
        "colab": {
          "base_uri": "https://localhost:8080/",
          "height": 298
        },
        "outputId": "18b067ed-18a5-49a1-9136-ee0cebccfff8"
      },
      "source": [
        "#Graphic for 5 trials\n",
        "plt.plot([304, 539, 670, 729, 868, 1189, 1361, 1425, 1425, 1425, 1425, 1425, 1425, 1425, 1425, 1425, 1421, 1425, 1425, 1423])\n",
        "plt.plot([-213, 545, 222, 106, 1167, 1281, 1371, 1433, 1433, 1435, 1435, 1435, 1433, 1435, 1435, 1433, 1433, 1435, 1431, 1435])\n",
        "plt.plot([88, 346, 488, 360, 718, 1157, 1373, 1435, 1435, 1435, 1435, 1435, 1435, 1433, 1433, 1435, 1433, 1435, 1435, 1433])\n",
        "plt.plot([-12, -198, 230, 537, 406, 1097, 1357, 1425, 1425, 1419, 1421, 1425, 1425, 1397, 1423, 1423, 1425, 1423, 1425, 1425])\n",
        "plt.plot([638, 543, 583, 533, 1025, 1215, 1269, 1435, 1435, 1435, 1433, 1435, 1435, 1435, 1435, 1435, 1435, 1435, 1431, 1393])\n",
        "plt.title('Sarsa exponential 5 trials')\n",
        "plt.xlabel('20 cycles', fontsize=14)\n",
        "plt.ylabel('Accumulated Rewards', fontsize=14)\n",
        "plt.show()"
      ],
      "execution_count": null,
      "outputs": [
        {
          "output_type": "display_data",
          "data": {
            "image/png": "[encoded data removed]",
            "text/plain": [
              "<Figure size 432x288 with 1 Axes>"
            ]
          },
          "metadata": {
            "needs_background": "light"
          }
        }
      ]
    }
  ]
}